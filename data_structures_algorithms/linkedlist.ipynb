{
 "cells": [
  {
   "cell_type": "markdown",
   "id": "a82ad4c1",
   "metadata": {},
   "source": [
    "### important links : https://roadmap.sh/datastructures-and-algorithms"
   ]
  },
  {
   "cell_type": "code",
   "execution_count": null,
   "id": "5d92d685",
   "metadata": {},
   "outputs": [],
   "source": []
  }
 ],
 "metadata": {
  "language_info": {
   "name": "python"
  }
 },
 "nbformat": 4,
 "nbformat_minor": 5
}
