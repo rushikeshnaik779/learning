{
 "cells": [
  {
   "cell_type": "markdown",
   "id": "097e0982-24b7-49f7-8cde-2388a1612b22",
   "metadata": {},
   "source": [
    "## Running Ls using python"
   ]
  },
  {
   "cell_type": "code",
   "execution_count": 1,
   "id": "a7bc67b8-231f-4052-b438-2cf1494202b6",
   "metadata": {},
   "outputs": [],
   "source": [
    "import subprocess"
   ]
  },
  {
   "cell_type": "code",
   "execution_count": 2,
   "id": "92e065d3-be38-4514-963b-87a219d24f65",
   "metadata": {},
   "outputs": [
    {
     "name": "stdout",
     "output_type": "stream",
     "text": [
      "Amazon Echo 2 Reviews.csv\n",
      "test.ipynb\n",
      "Untitled.ipynb\n"
     ]
    },
    {
     "data": {
      "text/plain": [
       "CompletedProcess(args='ls', returncode=0)"
      ]
     },
     "execution_count": 2,
     "metadata": {},
     "output_type": "execute_result"
    }
   ],
   "source": [
    "subprocess.run(\"ls\")"
   ]
  },
  {
   "cell_type": "code",
   "execution_count": 3,
   "id": "9d8a2f19-2c65-43e7-98f5-93168c68a489",
   "metadata": {},
   "outputs": [],
   "source": [
    "## Running using os "
   ]
  },
  {
   "cell_type": "code",
   "execution_count": 4,
   "id": "c963886e-5e0e-4e08-a821-92fe2f1288ea",
   "metadata": {},
   "outputs": [
    {
     "name": "stdout",
     "output_type": "stream",
     "text": [
      "Amazon Echo 2 Reviews.csv\n",
      "test.ipynb\n",
      "Untitled.ipynb\n",
      "total 4848\n",
      "-rw-r--r--  1 rushikeshnaik  staff  2459986  1 Oct 18:11 Amazon Echo 2 Reviews.csv\n",
      "-rw-r--r--  1 rushikeshnaik  staff    12665  1 Oct 18:14 test.ipynb\n",
      "-rw-r--r--  1 rushikeshnaik  staff       72  2 Oct 06:32 Untitled.ipynb\n"
     ]
    },
    {
     "data": {
      "text/plain": [
       "0"
      ]
     },
     "execution_count": 4,
     "metadata": {},
     "output_type": "execute_result"
    }
   ],
   "source": [
    "import os\n",
    "\n",
    "# To run 'ls' using os.system()\n",
    "os.system(\"ls\")\n",
    "\n",
    "# To run 'ls -l'\n",
    "os.system(\"ls -l\")\n"
   ]
  },
  {
   "cell_type": "markdown",
   "id": "3f152494-3c86-4e48-b943-e0c6551674ff",
   "metadata": {},
   "source": [
    "### let's using minmax scaler"
   ]
  },
  {
   "cell_type": "code",
   "execution_count": 7,
   "id": "b48f78c4-c6e0-4b54-901d-321149325d8d",
   "metadata": {},
   "outputs": [
    {
     "name": "stdout",
     "output_type": "stream",
     "text": [
      "Collecting scikit-learn\n",
      "  Downloading scikit_learn-1.7.2-cp313-cp313-macosx_12_0_arm64.whl.metadata (11 kB)\n",
      "Requirement already satisfied: numpy>=1.22.0 in /Users/rushikeshnaik/miniconda3/lib/python3.13/site-packages (from scikit-learn) (2.3.3)\n",
      "Collecting scipy>=1.8.0 (from scikit-learn)\n",
      "  Downloading scipy-1.16.2-cp313-cp313-macosx_14_0_arm64.whl.metadata (62 kB)\n",
      "Collecting joblib>=1.2.0 (from scikit-learn)\n",
      "  Downloading joblib-1.5.2-py3-none-any.whl.metadata (5.6 kB)\n",
      "Collecting threadpoolctl>=3.1.0 (from scikit-learn)\n",
      "  Downloading threadpoolctl-3.6.0-py3-none-any.whl.metadata (13 kB)\n",
      "Downloading scikit_learn-1.7.2-cp313-cp313-macosx_12_0_arm64.whl (8.6 MB)\n",
      "\u001b[2K   \u001b[38;2;114;156;31m━━━━━━━━━━━━━━━━━━━━━━━━━━━━━━━━━━━━━━━━\u001b[0m \u001b[32m8.6/8.6 MB\u001b[0m \u001b[31m11.4 MB/s\u001b[0m eta \u001b[36m0:00:00\u001b[0m MB/s\u001b[0m eta \u001b[36m0:00:01\u001b[0m:01\u001b[0m\n",
      "\u001b[?25hDownloading joblib-1.5.2-py3-none-any.whl (308 kB)\n",
      "Downloading scipy-1.16.2-cp313-cp313-macosx_14_0_arm64.whl (20.9 MB)\n",
      "\u001b[2K   \u001b[38;2;114;156;31m━━━━━━━━━━━━━━━━━━━━━━━━━━━━━━━━━━━━━━━━\u001b[0m \u001b[32m20.9/20.9 MB\u001b[0m \u001b[31m10.9 MB/s\u001b[0m eta \u001b[36m0:00:00\u001b[0m31m11.0 MB/s\u001b[0m eta \u001b[36m0:00:01\u001b[0m\n",
      "\u001b[?25hDownloading threadpoolctl-3.6.0-py3-none-any.whl (18 kB)\n",
      "Installing collected packages: threadpoolctl, scipy, joblib, scikit-learn\n",
      "\u001b[2K   \u001b[38;2;114;156;31m━━━━━━━━━━━━━━━━━━━━━━━━━━━━━━━━━━━━━━━━\u001b[0m \u001b[32m4/4\u001b[0m [scikit-learn]0m \u001b[32m3/4\u001b[0m [scikit-learn]\n",
      "\u001b[1A\u001b[2KSuccessfully installed joblib-1.5.2 scikit-learn-1.7.2 scipy-1.16.2 threadpoolctl-3.6.0\n"
     ]
    }
   ],
   "source": [
    "!pip install scikit-learn"
   ]
  },
  {
   "cell_type": "code",
   "execution_count": 10,
   "id": "f4d9105d-5874-4ba8-84a5-5e314a24b239",
   "metadata": {},
   "outputs": [],
   "source": [
    "import numpy as np \n",
    "from sklearn.preprocessing import MinMaxScaler \n",
    "import pandas as pd"
   ]
  },
  {
   "cell_type": "code",
   "execution_count": 11,
   "id": "a11a5831-1cdb-48df-baa0-7ca58f008b65",
   "metadata": {},
   "outputs": [
    {
     "data": {
      "text/html": [
       "<div>\n",
       "<style scoped>\n",
       "    .dataframe tbody tr th:only-of-type {\n",
       "        vertical-align: middle;\n",
       "    }\n",
       "\n",
       "    .dataframe tbody tr th {\n",
       "        vertical-align: top;\n",
       "    }\n",
       "\n",
       "    .dataframe thead th {\n",
       "        text-align: right;\n",
       "    }\n",
       "</style>\n",
       "<table border=\"1\" class=\"dataframe\">\n",
       "  <thead>\n",
       "    <tr style=\"text-align: right;\">\n",
       "      <th></th>\n",
       "      <th>0</th>\n",
       "      <th>1</th>\n",
       "    </tr>\n",
       "  </thead>\n",
       "  <tbody>\n",
       "    <tr>\n",
       "      <th>0</th>\n",
       "      <td>10</td>\n",
       "      <td>200</td>\n",
       "    </tr>\n",
       "    <tr>\n",
       "      <th>1</th>\n",
       "      <td>20</td>\n",
       "      <td>300</td>\n",
       "    </tr>\n",
       "    <tr>\n",
       "      <th>2</th>\n",
       "      <td>40</td>\n",
       "      <td>600</td>\n",
       "    </tr>\n",
       "  </tbody>\n",
       "</table>\n",
       "</div>"
      ],
      "text/plain": [
       "    0    1\n",
       "0  10  200\n",
       "1  20  300\n",
       "2  40  600"
      ]
     },
     "execution_count": 11,
     "metadata": {},
     "output_type": "execute_result"
    }
   ],
   "source": [
    "# let's create the sample data \n",
    "data = np.array([\n",
    "    [10, 200], \n",
    "    [20, 300], \n",
    "    [40, 600]\n",
    "])\n",
    "\n",
    "pd.DataFrame(data)"
   ]
  },
  {
   "cell_type": "code",
   "execution_count": 12,
   "id": "7b08ae90-3334-455c-8b82-edf5363834fd",
   "metadata": {},
   "outputs": [],
   "source": [
    "# let's create a minmax scaler instaces \n",
    "\n",
    "scaler = MinMaxScaler()\n",
    "\n",
    "scaled_data = scaler.fit_transform(data)\n",
    "\n"
   ]
  },
  {
   "cell_type": "code",
   "execution_count": 15,
   "id": "2e94d950-a1ca-423b-b3b8-58f43c0be6cc",
   "metadata": {},
   "outputs": [
    {
     "name": "stdout",
     "output_type": "stream",
     "text": [
      "original data:\n",
      "[[ 10 200]\n",
      " [ 20 300]\n",
      " [ 40 600]]\n",
      "\n",
      "\n",
      "Scaled Data:\n",
      "[[0.         0.        ]\n",
      " [0.33333333 0.25      ]\n",
      " [1.         1.        ]]\n"
     ]
    }
   ],
   "source": [
    "print(\"original data:\") \n",
    "print(data) \n",
    "\n",
    "\n",
    "print(\"\\n\\nScaled Data:\")\n",
    "print(scaled_data)"
   ]
  },
  {
   "cell_type": "code",
   "execution_count": 16,
   "id": "9078ccf7-466b-4104-9482-98c0130cf12d",
   "metadata": {},
   "outputs": [],
   "source": [
    "# when to do the vertical scaling \n",
    "#  when a single powerful server can handle the current and \n",
    "# predictable workloads, the application doesn't support distributed \n",
    "# architecture well, or when simplicity and cost-effectiveness are \n",
    "# priorities over high availability. Vertical scaling is also suitable for \n",
    "# resource-intensive applications like machine learning or data processing, \n",
    "# and for systems with strict data locality requirements. \n",
    "\n"
   ]
  },
  {
   "cell_type": "markdown",
   "id": "8c18591f-901a-4933-b1e1-158c643bcfd9",
   "metadata": {},
   "source": [
    "## Iiris Model Developlement and PRediction "
   ]
  },
  {
   "cell_type": "code",
   "execution_count": 18,
   "id": "c057df42-cc3e-4376-9731-12bc74ea4ee0",
   "metadata": {},
   "outputs": [
    {
     "name": "stdout",
     "output_type": "stream",
     "text": [
      "Collecting matplotlib\n",
      "  Downloading matplotlib-3.10.6-cp313-cp313-macosx_11_0_arm64.whl.metadata (11 kB)\n",
      "Collecting contourpy>=1.0.1 (from matplotlib)\n",
      "  Downloading contourpy-1.3.3-cp313-cp313-macosx_11_0_arm64.whl.metadata (5.5 kB)\n",
      "Collecting cycler>=0.10 (from matplotlib)\n",
      "  Downloading cycler-0.12.1-py3-none-any.whl.metadata (3.8 kB)\n",
      "Collecting fonttools>=4.22.0 (from matplotlib)\n",
      "  Downloading fonttools-4.60.1-cp313-cp313-macosx_10_13_universal2.whl.metadata (112 kB)\n",
      "Collecting kiwisolver>=1.3.1 (from matplotlib)\n",
      "  Downloading kiwisolver-1.4.9-cp313-cp313-macosx_11_0_arm64.whl.metadata (6.3 kB)\n",
      "Requirement already satisfied: numpy>=1.23 in /Users/rushikeshnaik/miniconda3/lib/python3.13/site-packages (from matplotlib) (2.3.3)\n",
      "Requirement already satisfied: packaging>=20.0 in /Users/rushikeshnaik/miniconda3/lib/python3.13/site-packages (from matplotlib) (25.0)\n",
      "Collecting pillow>=8 (from matplotlib)\n",
      "  Downloading pillow-11.3.0-cp313-cp313-macosx_11_0_arm64.whl.metadata (9.0 kB)\n",
      "Collecting pyparsing>=2.3.1 (from matplotlib)\n",
      "  Downloading pyparsing-3.2.5-py3-none-any.whl.metadata (5.0 kB)\n",
      "Requirement already satisfied: python-dateutil>=2.7 in /Users/rushikeshnaik/miniconda3/lib/python3.13/site-packages (from matplotlib) (2.9.0.post0)\n",
      "Requirement already satisfied: six>=1.5 in /Users/rushikeshnaik/miniconda3/lib/python3.13/site-packages (from python-dateutil>=2.7->matplotlib) (1.17.0)\n",
      "Downloading matplotlib-3.10.6-cp313-cp313-macosx_11_0_arm64.whl (8.1 MB)\n",
      "\u001b[2K   \u001b[38;2;114;156;31m━━━━━━━━━━━━━━━━━━━━━━━━━━━━━━━━━━━━━━━━\u001b[0m \u001b[32m8.1/8.1 MB\u001b[0m \u001b[31m10.1 MB/s\u001b[0m eta \u001b[36m0:00:00\u001b[0m31m12.3 MB/s\u001b[0m eta \u001b[36m0:00:01\u001b[0m\n",
      "\u001b[?25hDownloading contourpy-1.3.3-cp313-cp313-macosx_11_0_arm64.whl (274 kB)\n",
      "Downloading cycler-0.12.1-py3-none-any.whl (8.3 kB)\n",
      "Downloading fonttools-4.60.1-cp313-cp313-macosx_10_13_universal2.whl (2.8 MB)\n",
      "\u001b[2K   \u001b[38;2;114;156;31m━━━━━━━━━━━━━━━━━━━━━━━━━━━━━━━━━━━━━━━━\u001b[0m \u001b[32m2.8/2.8 MB\u001b[0m \u001b[31m5.9 MB/s\u001b[0m eta \u001b[36m0:00:00\u001b[0m MB/s\u001b[0m eta \u001b[36m0:00:01\u001b[0m:01\u001b[0m\n",
      "\u001b[?25hDownloading kiwisolver-1.4.9-cp313-cp313-macosx_11_0_arm64.whl (64 kB)\n",
      "Downloading pillow-11.3.0-cp313-cp313-macosx_11_0_arm64.whl (4.7 MB)\n",
      "\u001b[2K   \u001b[38;2;114;156;31m━━━━━━━━━━━━━━━━━━━━━━━━━━━━━━━━━━━━━━━━\u001b[0m \u001b[32m4.7/4.7 MB\u001b[0m \u001b[31m7.2 MB/s\u001b[0m eta \u001b[36m0:00:00\u001b[0m MB/s\u001b[0m eta \u001b[36m0:00:01\u001b[0m:01\u001b[0m\n",
      "\u001b[?25hDownloading pyparsing-3.2.5-py3-none-any.whl (113 kB)\n",
      "Installing collected packages: pyparsing, pillow, kiwisolver, fonttools, cycler, contourpy, matplotlib\n",
      "\u001b[2K   \u001b[38;2;114;156;31m━━━━━━━━━━━━━━━━━━━━━━━━━━━━━━━━━━━━━━━━\u001b[0m \u001b[32m7/7\u001b[0m [matplotlib]\u001b[0m \u001b[32m6/7\u001b[0m [matplotlib]er]\n",
      "\u001b[1A\u001b[2KSuccessfully installed contourpy-1.3.3 cycler-0.12.1 fonttools-4.60.1 kiwisolver-1.4.9 matplotlib-3.10.6 pillow-11.3.0 pyparsing-3.2.5\n"
     ]
    }
   ],
   "source": [
    "!pip install matplotlib"
   ]
  },
  {
   "cell_type": "code",
   "execution_count": 19,
   "id": "07915ab9-bff8-4ec3-813f-a3f97ce9e4da",
   "metadata": {},
   "outputs": [
    {
     "name": "stderr",
     "output_type": "stream",
     "text": [
      "Matplotlib is building the font cache; this may take a moment.\n"
     ]
    }
   ],
   "source": [
    "import numpy as np \n",
    "import matplotlib.pyplot as plt \n",
    "from sklearn.datasets import load_iris \n",
    "from sklearn.model_selection import train_test_split\n",
    "from sklearn.linear_model import LogisticRegression\n",
    "from sklearn.metrics import classification_report, roc_curve, auc\n",
    "from sklearn.preprocessing import label_binarize"
   ]
  },
  {
   "cell_type": "code",
   "execution_count": 21,
   "id": "31e56abc-d4a7-4348-9f35-1749b955dd4f",
   "metadata": {},
   "outputs": [],
   "source": [
    "# load iris data \n",
    "iris = load_iris()\n"
   ]
  },
  {
   "cell_type": "code",
   "execution_count": 23,
   "id": "d8792881-13b4-4f1d-871e-48b13c81d842",
   "metadata": {},
   "outputs": [],
   "source": [
    "X, y = iris.data, iris.target\n",
    "\n",
    "target_names = iris.target_names"
   ]
  },
  {
   "cell_type": "code",
   "execution_count": 26,
   "id": "19c2db89-9f03-4c13-b29c-bb7923d26328",
   "metadata": {},
   "outputs": [],
   "source": [
    "# train test split \n",
    "X_train, X_test, y_train, y_test = train_test_split(\n",
    "    X, y, test_size = 0.2, random_state=42, stratify = y\n",
    ")"
   ]
  },
  {
   "cell_type": "code",
   "execution_count": 28,
   "id": "6c1f850c-1633-47db-b42f-82904d06c301",
   "metadata": {},
   "outputs": [
    {
     "name": "stdout",
     "output_type": "stream",
     "text": [
      "Training set size 120\n",
      "Testing set size 30\n"
     ]
    }
   ],
   "source": [
    "print(f\"Training set size {len(X_train)}\") \n",
    "print(f\"Testing set size {len(X_test)}\")"
   ]
  },
  {
   "cell_type": "code",
   "execution_count": 29,
   "id": "0fdb54c5-47ec-4b2b-a5a2-e5490c8c405b",
   "metadata": {},
   "outputs": [
    {
     "name": "stdout",
     "output_type": "stream",
     "text": [
      "Model trained successfully using Logistic Regression.\n"
     ]
    }
   ],
   "source": [
    "model = LogisticRegression(max_iter = 200, random_state=42, solver='lbfgs')\n",
    "model.fit(X_train, y_train)\n",
    "print(\"Model trained successfully using Logistic Regression.\")\n"
   ]
  },
  {
   "cell_type": "code",
   "execution_count": 30,
   "id": "d064548b-7de4-411d-bdab-b65886577d58",
   "metadata": {},
   "outputs": [],
   "source": [
    "y_pred = model.predict(X_test)\n"
   ]
  },
  {
   "cell_type": "code",
   "execution_count": 31,
   "id": "0737b028-eb46-44e6-969e-de89751ec429",
   "metadata": {},
   "outputs": [
    {
     "name": "stdout",
     "output_type": "stream",
     "text": [
      "              precision    recall  f1-score   support\n",
      "\n",
      "      setosa       1.00      1.00      1.00        10\n",
      "  versicolor       1.00      0.90      0.95        10\n",
      "   virginica       0.91      1.00      0.95        10\n",
      "\n",
      "    accuracy                           0.97        30\n",
      "   macro avg       0.97      0.97      0.97        30\n",
      "weighted avg       0.97      0.97      0.97        30\n",
      "\n"
     ]
    }
   ],
   "source": [
    "print(classification_report(y_test, y_pred, target_names=target_names))\n"
   ]
  },
  {
   "cell_type": "code",
   "execution_count": 32,
   "id": "dda5f913-72e5-4fa3-b145-83b22104a1ee",
   "metadata": {},
   "outputs": [],
   "source": [
    "# Binarize the output for AUC-ROC calculation (required for multi-class)\n",
    "y_test_binarized = label_binarize(y_test, classes=[0, 1, 2])\n",
    "n_classes = y_test_binarized.shape[1]"
   ]
  },
  {
   "cell_type": "code",
   "execution_count": 37,
   "id": "68f23b62-f431-4716-aadf-6745600fc111",
   "metadata": {},
   "outputs": [],
   "source": [
    "y_score = model.predict_proba(X_test)"
   ]
  },
  {
   "cell_type": "code",
   "execution_count": 38,
   "id": "569e2f1e-4d3a-48b1-9aea-e072e535b73b",
   "metadata": {},
   "outputs": [
    {
     "data": {
      "text/plain": [
       "array([[9.85315981e-01, 1.46839731e-02, 4.62306225e-08],\n",
       "       [1.37681056e-03, 3.90919457e-01, 6.07703733e-01],\n",
       "       [1.86888417e-01, 8.08909103e-01, 4.20248040e-03],\n",
       "       [1.55856125e-01, 8.39914515e-01, 4.22936016e-03],\n",
       "       [9.88257139e-01, 1.17428259e-02, 3.53975808e-08],\n",
       "       [4.37921902e-03, 6.88873220e-01, 3.06747561e-01],\n",
       "       [9.95163185e-01, 4.83680937e-03, 5.36551328e-09],\n",
       "       [9.38732189e-01, 6.12675057e-02, 3.05213037e-07],\n",
       "       [1.99840098e-04, 1.71157148e-01, 8.28643012e-01],\n",
       "       [1.35330223e-02, 7.35533880e-01, 2.50933098e-01],\n",
       "       [1.12350940e-06, 2.68067794e-02, 9.73192097e-01],\n",
       "       [1.34403863e-04, 1.31632721e-01, 8.68232875e-01],\n",
       "       [7.19923020e-06, 2.33874367e-02, 9.76605364e-01],\n",
       "       [6.66432334e-03, 8.33125349e-01, 1.60210327e-01],\n",
       "       [9.73098143e-01, 2.69017606e-02, 9.67422161e-08],\n",
       "       [9.75699555e-01, 2.43003768e-02, 6.82502393e-08],\n",
       "       [9.83259959e-01, 1.67400252e-02, 1.54348934e-08],\n",
       "       [3.11953361e-02, 9.46943819e-01, 2.18608452e-02],\n",
       "       [3.89113358e-03, 7.57883023e-01, 2.38225843e-01],\n",
       "       [2.15614722e-03, 4.42966083e-01, 5.54877769e-01],\n",
       "       [9.70808563e-01, 2.91913573e-02, 7.95656934e-08],\n",
       "       [1.10710170e-05, 2.64015277e-02, 9.73587401e-01],\n",
       "       [3.32891737e-03, 8.73801095e-01, 1.22869988e-01],\n",
       "       [1.07997339e-04, 2.09447839e-01, 7.90444163e-01],\n",
       "       [1.51366004e-05, 3.58971039e-02, 9.64087759e-01],\n",
       "       [7.13874902e-04, 4.69299007e-01, 5.29987118e-01],\n",
       "       [5.84913872e-03, 8.99418042e-01, 9.47328195e-02],\n",
       "       [9.45354944e-01, 5.46447767e-02, 2.79026797e-07],\n",
       "       [8.54091251e-05, 1.36716593e-01, 8.63197998e-01],\n",
       "       [9.73247706e-01, 2.67522277e-02, 6.61287847e-08]])"
      ]
     },
     "execution_count": 38,
     "metadata": {},
     "output_type": "execute_result"
    }
   ],
   "source": [
    "y_score"
   ]
  },
  {
   "cell_type": "code",
   "execution_count": 39,
   "id": "79457698-1bff-4537-b3d2-da4d3f20b977",
   "metadata": {},
   "outputs": [
    {
     "data": {
      "image/png": "[encoded data removed]",
      "text/plain": [
       "<Figure size 1000x800 with 1 Axes>"
      ]
     },
     "metadata": {},
     "output_type": "display_data"
    },
    {
     "name": "stdout",
     "output_type": "stream",
     "text": [
      "\n",
      "[AUC-ROC Plot Displayed]\n",
      "\n",
      "Summary:\n",
      "The model achieved high accuracy on the test set, reflecting the dataset's separability.\n",
      "The AUC values close to 1.0 for all classes indicate the model has excellent discriminatory power.\n"
     ]
    }
   ],
   "source": [
    "# Store results\n",
    "fpr = dict()\n",
    "tpr = dict()\n",
    "roc_auc = dict()\n",
    "\n",
    "# Calculate ROC curve and AUC for each class\n",
    "for i in range(n_classes):\n",
    "    # Calculate False Positive Rate (FPR), True Positive Rate (TPR), and thresholds\n",
    "    fpr[i], tpr[i], _ = roc_curve(y_test_binarized[:, i], y_score[:, i])\n",
    "    # Calculate Area Under the Curve (AUC)\n",
    "    roc_auc[i] = auc(fpr[i], tpr[i])\n",
    "\n",
    "# --- 6. Plotting the ROC Curves ---\n",
    "\n",
    "plt.figure(figsize=(10, 8))\n",
    "colors = ['red', 'green', 'blue']\n",
    "\n",
    "# Plot ROC curves for all three classes\n",
    "for i, color in zip(range(n_classes), colors):\n",
    "    plt.plot(\n",
    "        fpr[i],\n",
    "        tpr[i],\n",
    "        color=color,\n",
    "        lw=2,\n",
    "        label=f'ROC curve of class {target_names[i]} (AUC = {roc_auc[i]:0.2f})'\n",
    "    )\n",
    "\n",
    "# Plot the chance line (random guessing)\n",
    "plt.plot([0, 1], [0, 1], 'k--', lw=2, label='Chance (AUC = 0.50)')\n",
    "\n",
    "# Styling the plot\n",
    "plt.xlim([0.0, 1.0])\n",
    "plt.ylim([0.0, 1.05])\n",
    "plt.xlabel('False Positive Rate (FPR)', fontsize=12)\n",
    "plt.ylabel('True Positive Rate (TPR) / Recall', fontsize=12)\n",
    "plt.title('Receiver Operating Characteristic (ROC) for Iris Classification (One-vs-Rest)', fontsize=14)\n",
    "plt.legend(loc=\"lower right\", fontsize=10)\n",
    "plt.grid(True, linestyle='--', alpha=0.7)\n",
    "plt.show()\n",
    "\n",
    "print(\"\\n[AUC-ROC Plot Displayed]\")\n",
    "\n",
    "# --- Summary ---\n",
    "print(\"\\nSummary:\")\n",
    "print(\"The model achieved high accuracy on the test set, reflecting the dataset's separability.\")\n",
    "print(\"The AUC values close to 1.0 for all classes indicate the model has excellent discriminatory power.\")\n"
   ]
  },
  {
   "cell_type": "code",
   "execution_count": null,
   "id": "0a1b3043-2851-4fd1-9cff-5ed185aa42f1",
   "metadata": {},
   "outputs": [],
   "source": []
  }
 ],
 "metadata": {
  "kernelspec": {
   "display_name": "Python 3 (ipykernel)",
   "language": "python",
   "name": "python3"
  },
  "language_info": {
   "codemirror_mode": {
    "name": "ipython",
    "version": 3
   },
   "file_extension": ".py",
   "mimetype": "text/x-python",
   "name": "python",
   "nbconvert_exporter": "python",
   "pygments_lexer": "ipython3",
   "version": "3.13.5"
  }
 },
 "nbformat": 4,
 "nbformat_minor": 5
}
