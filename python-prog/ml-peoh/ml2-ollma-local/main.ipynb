{
 "cells": [
  {
   "cell_type": "code",
   "execution_count": null,
   "id": "ec168c0a",
   "metadata": {},
   "outputs": [],
   "source": [
    "import pandas as pd "
   ]
  },
  {
   "cell_type": "code",
   "execution_count": 1,
   "id": "6f5b53b0",
   "metadata": {},
   "outputs": [],
   "source": [
    "# dataframe "
   ]
  },
  {
   "cell_type": "code",
   "execution_count": 3,
   "id": "dedda92e",
   "metadata": {},
   "outputs": [
    {
     "data": {
      "text/plain": [
       "\"Okay, let's break down the reasons for a heart attack, step by step. It’s a complex issue, but we can understand it better by looking at the process.\\n\\n**Step 1: Understanding a Heart Attack**\\n\\nA heart attack, also known as a myocardial infarction (MI), happens when the blood supply to a part of the heart muscle is suddenly blocked. This usually cuts off oxygen, and if the blockage isn’t cleared quickly, the heart muscle starts to die.\\n\\n**Step 2: The Culprit - Coronary Artery Disease (CAD)**\\n\\nThe vast majority of heart attacks are caused by a condition called Coronary Artery Disease (CAD).  This is the *underlying* reason, not the direct cause of the attack itself.\\n\\n*   **What is CAD?** CAD is the buildup of plaque (made of cholesterol, fat, and other substances) inside the coronary arteries. These arteries are responsible for carrying oxygen-rich blood to your heart muscle.\\n*   **Plaque Formation:**  Over time, factors like high cholesterol, high blood pressure, smoking, diabetes, and an unhealthy diet can cause the plaque to build up, narrowing the arteries.\\n*   **Hardening and Narrowing:**  This narrowing, called atherosclerosis, makes it harder for blood to flow through the arteries.\\n\\n\\n**Step 3: How a Blockage Leads to a Heart Attack**\\n\\nNow, let’s look at how this blockage leads to a heart attack:\\n\\n*   **Thrombosis (Blood Clot Formation):** The plaque buildup can rupture. When this happens, the body tries to repair the damage, and a blood clot forms around the rupture. This clot can completely block the artery.\\n*   **Other Blockages:** Less commonly, a plaque can break off and travel downstream, blocking a coronary artery.\\n\\n**Step 4: Risk Factors – Why CAD Develops**\\n\\nLet's look at what increases your risk of developing CAD and, therefore, the risk of a heart attack:\\n\\n*   **High Cholesterol:** Having too much LDL (“bad”) cholesterol contributes to plaque formation.\\n*   **High Blood Pressure:** Damages the artery walls, making them more susceptible to plaque buildup.\\n*   **Smoking:** Damages blood vessels and increases the risk of blood clots.\\n*   **Diabetes:** Increases the risk of CAD and blood clots.\\n*   **Obesity:**  Often linked to other risk factors like high cholesterol and diabetes.\\n*   **Family History:**  A family history of heart disease can increase your risk.\\n*   **Age:** Risk increases with age.\\n*   **Lack of Physical Activity:** Contributes to obesity and other risk factors.\\n\\n\\n\\n**Step 5: Types of Heart Attacks**\\n\\n*   **STEMI (ST-Elevation Myocardial Infarction):** This is the most serious type.  It’s caused by a complete blockage of a coronary artery.  It’s often associated with a large, unstable plaque.\\n*   **NSTEMI (Non-ST-Elevation Myocardial Infarction):** This type has a less obvious blockage, and the damage might be less severe, though still serious.\\n\\n---\\n\\n**Important Note:** *This explanation is for informational purposes only and should not be considered medical advice.  If you are experiencing symptoms of a heart attack (chest pain, shortness of breath, pain radiating to the arm, jaw, or back) seek immediate medical attention. Call 911 (or your local emergency number) right away.*\\n\\nWould you like me to:\\n\\n*   Explain a specific risk factor in more detail?\\n*   Talk about treatment options for heart attacks?\\n*   Answer a specific question you have about heart attacks?\""
      ]
     },
     "execution_count": 3,
     "metadata": {},
     "output_type": "execute_result"
    }
   ],
   "source": [
    "from langchain_core.prompts import ChatPromptTemplate\n",
    "from langchain_ollama.llms import OllamaLLM\n",
    "\n",
    "template = \"\"\"Question: {question}\n",
    "\n",
    "Answer: Let's think step by step.\"\"\"\n",
    "\n",
    "prompt = ChatPromptTemplate.from_template(template)\n",
    "\n",
    "model = OllamaLLM(model=\"gemma3:4b\")\n",
    "\n",
    "chain = prompt | model\n",
    "\n",
    "chain.invoke({\"question\": \"Can you explain me few reasons of Heart Attack?\"})"
   ]
  },
  {
   "cell_type": "code",
   "execution_count": null,
   "id": "65786115",
   "metadata": {},
   "outputs": [],
   "source": []
  }
 ],
 "metadata": {
  "kernelspec": {
   "display_name": "ml-env2",
   "language": "python",
   "name": "python3"
  },
  "language_info": {
   "codemirror_mode": {
    "name": "ipython",
    "version": 3
   },
   "file_extension": ".py",
   "mimetype": "text/x-python",
   "name": "python",
   "nbconvert_exporter": "python",
   "pygments_lexer": "ipython3",
   "version": "3.12.11"
  }
 },
 "nbformat": 4,
 "nbformat_minor": 5
}
