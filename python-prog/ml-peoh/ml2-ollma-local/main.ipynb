{
 "cells": [
  {
   "cell_type": "code",
   "execution_count": null,
   "id": "ec168c0a",
   "metadata": {},
   "outputs": [],
   "source": [
    "import pandas as pd "
   ]
  },
  {
   "cell_type": "code",
   "execution_count": 1,
   "id": "6f5b53b0",
   "metadata": {},
   "outputs": [],
   "source": [
    "# dataframe "
   ]
  },
  {
   "cell_type": "code",
   "execution_count": 3,
   "id": "dedda92e",
   "metadata": {},
   "outputs": [
    {
     "data": {
      "text/plain": [
       "\"You're using a Socratic method to encourage critical thinking and problem-solving.\\n\\nI'll play along:\\n\\nStep 1: What do I do? \\n(I provide information, assist with tasks, etc.)\\n\\nStep 2: What kind of characteristics do models typically have? (e.g., mathematical equations, physical structures, conceptual frameworks)\\n\\nNow, can you think of a step to take next or would you like me to proceed?\""
      ]
     },
     "execution_count": 3,
     "metadata": {},
     "output_type": "execute_result"
    }
   ],
   "source": [
    "from langchain_core.prompts import ChatPromptTemplate\n",
    "from langchain_ollama.llms import OllamaLLM\n",
    "\n",
    "template = \"\"\"Question: {question}\n",
    "\n",
    "Answer: Let's think step by step.\"\"\"\n",
    "\n",
    "prompt = ChatPromptTemplate.from_template(template)\n",
    "\n",
    "model = OllamaLLM(model=\"llama3.1\")\n",
    "\n",
    "chain = prompt | model\n",
    "\n",
    "chain.invoke({\"question\": \"Which model you are?\"})"
   ]
  },
  {
   "cell_type": "code",
   "execution_count": null,
   "id": "65786115",
   "metadata": {},
   "outputs": [],
   "source": []
  }
 ],
 "metadata": {
  "kernelspec": {
   "display_name": "ml-env2",
   "language": "python",
   "name": "python3"
  },
  "language_info": {
   "codemirror_mode": {
    "name": "ipython",
    "version": 3
   },
   "file_extension": ".py",
   "mimetype": "text/x-python",
   "name": "python",
   "nbconvert_exporter": "python",
   "pygments_lexer": "ipython3",
   "version": "3.12.11"
  }
 },
 "nbformat": 4,
 "nbformat_minor": 5
}
