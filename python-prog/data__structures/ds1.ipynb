{
 "cells": [
  {
   "cell_type": "code",
   "execution_count": 1,
   "id": "f30e8d82",
   "metadata": {},
   "outputs": [
    {
     "name": "stdout",
     "output_type": "stream",
     "text": [
      "test\n"
     ]
    }
   ],
   "source": [
    "print(\"test\")"
   ]
  },
  {
   "cell_type": "markdown",
   "id": "57a2ef2c",
   "metadata": {},
   "source": [
    "### Extraction of Digits \n",
    "- Count Digits \n",
    "- Reverse a number \n",
    "- Check pallindrome \n",
    "- Armstrong Number "
   ]
  },
  {
   "cell_type": "code",
   "execution_count": 5,
   "id": "b5406a95",
   "metadata": {},
   "outputs": [
    {
     "data": {
      "text/plain": [
       "587"
      ]
     },
     "execution_count": 5,
     "metadata": {},
     "output_type": "execute_result"
    }
   ],
   "source": [
    "n = 5873 \n",
    "\n",
    "n//10"
   ]
  },
  {
   "cell_type": "code",
   "execution_count": 11,
   "id": "eda27cf3",
   "metadata": {},
   "outputs": [
    {
     "name": "stdout",
     "output_type": "stream",
     "text": [
      "last digit 3\n",
      "Remaining digit 587\n",
      "*************************\n",
      "\n",
      "last digit 7\n",
      "Remaining digit 58\n",
      "*************************\n",
      "\n",
      "last digit 8\n",
      "Remaining digit 5\n",
      "*************************\n",
      "\n",
      "last digit 5\n",
      "Remaining digit 0\n",
      "*************************\n",
      "\n"
     ]
    }
   ],
   "source": [
    "num = n \n",
    "while num>0: \n",
    "    last_digit = num %10 \n",
    "    print(\"last digit\", last_digit)\n",
    "    num = num // 10 \n",
    "    print(\"Remaining digit\", num)\n",
    "    print(\"*\"*25)\n",
    "    print()\n",
    "    "
   ]
  },
  {
   "cell_type": "code",
   "execution_count": null,
   "id": "657c209a",
   "metadata": {},
   "outputs": [],
   "source": []
  }
 ],
 "metadata": {
  "kernelspec": {
   "display_name": "ml-env2",
   "language": "python",
   "name": "python3"
  },
  "language_info": {
   "codemirror_mode": {
    "name": "ipython",
    "version": 3
   },
   "file_extension": ".py",
   "mimetype": "text/x-python",
   "name": "python",
   "nbconvert_exporter": "python",
   "pygments_lexer": "ipython3",
   "version": "3.12.11"
  }
 },
 "nbformat": 4,
 "nbformat_minor": 5
}
