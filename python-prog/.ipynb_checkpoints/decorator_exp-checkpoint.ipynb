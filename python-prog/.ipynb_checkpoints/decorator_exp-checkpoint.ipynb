{
 "cells": [
  {
   "cell_type": "markdown",
   "id": "9e0a8ebf-6db6-4228-bfb1-8f3b971d3064",
   "metadata": {},
   "source": [
    "### Decorator"
   ]
  },
  {
   "cell_type": "code",
   "execution_count": 1,
   "id": "92b02e3d-c04c-4be6-a6c4-4cd936291db1",
   "metadata": {},
   "outputs": [],
   "source": [
    "# let's create a decorator \n",
    "def my_decorator(func):\n",
    "    def wrapper():\n",
    "        print(\"Before calling the function\") \n",
    "        func()\n",
    "        print(\"After calling the function\")\n",
    "    return wrapper\n",
    "    "
   ]
  },
  {
   "cell_type": "code",
   "execution_count": 3,
   "id": "f477bcf2-b84a-47ed-8a72-5c5f4d00ec8e",
   "metadata": {},
   "outputs": [],
   "source": [
    "@my_decorator\n",
    "def say_hello(): \n",
    "    print(\"Hello\")"
   ]
  },
  {
   "cell_type": "code",
   "execution_count": 4,
   "id": "2aa1ed54-4966-497a-9c32-e678c7ecc7b1",
   "metadata": {},
   "outputs": [
    {
     "name": "stdout",
     "output_type": "stream",
     "text": [
      "Before calling the function\n",
      "Hello\n",
      "After calling the function\n"
     ]
    }
   ],
   "source": [
    "say_hello()"
   ]
  },
  {
   "cell_type": "code",
   "execution_count": null,
   "id": "ab5eb2d4-512f-47d5-8216-ba25b677bd4f",
   "metadata": {},
   "outputs": [],
   "source": [
    "\n"
   ]
  },
  {
   "cell_type": "code",
   "execution_count": null,
   "id": "8b470550-5343-4d6e-a3dc-060a63fdd745",
   "metadata": {},
   "outputs": [],
   "source": []
  },
  {
   "cell_type": "code",
   "execution_count": null,
   "id": "0be7d32d-5c38-47e9-a8fa-e159108b98b2",
   "metadata": {},
   "outputs": [],
   "source": []
  },
  {
   "cell_type": "markdown",
   "id": "6c6c8ea4-1bcf-47bd-a250-9634fcc46a14",
   "metadata": {},
   "source": [
    "### Reading file with context manager "
   ]
  },
  {
   "cell_type": "code",
   "execution_count": 7,
   "id": "b8cda199-80ca-45cf-ad0b-953f9f20e21b",
   "metadata": {},
   "outputs": [
    {
     "name": "stdout",
     "output_type": "stream",
     "text": [
      "Hey hellow rushikesh \n",
      "today is the friday: and it is good \n"
     ]
    }
   ],
   "source": [
    "# reading the entire file\n",
    "\n",
    "with open(\"test.txt\", \"r\") as f: \n",
    "    content = f.read()\n",
    "print(content)"
   ]
  },
  {
   "cell_type": "code",
   "execution_count": 8,
   "id": "973405f1-f2bc-4c3f-beba-c4f5f88effa2",
   "metadata": {},
   "outputs": [
    {
     "name": "stdout",
     "output_type": "stream",
     "text": [
      "Hey hellow rushikesh \n",
      "\n",
      "today is the friday: and it is good \n"
     ]
    }
   ],
   "source": [
    "#reading line by line \n",
    "\n",
    "with open(\"test.txt\", \"r\") as f: \n",
    "    for line in f: \n",
    "        print(line)"
   ]
  },
  {
   "cell_type": "code",
   "execution_count": null,
   "id": "520b597f-90ae-4976-b1bb-515aab4e5b84",
   "metadata": {},
   "outputs": [],
   "source": []
  }
 ],
 "metadata": {
  "kernelspec": {
   "display_name": "Python 3 (ipykernel)",
   "language": "python",
   "name": "python3"
  },
  "language_info": {
   "codemirror_mode": {
    "name": "ipython",
    "version": 3
   },
   "file_extension": ".py",
   "mimetype": "text/x-python",
   "name": "python",
   "nbconvert_exporter": "python",
   "pygments_lexer": "ipython3",
   "version": "3.13.5"
  }
 },
 "nbformat": 4,
 "nbformat_minor": 5
}
