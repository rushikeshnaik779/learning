{
 "cells": [
  {
   "cell_type": "code",
   "execution_count": 1,
   "id": "66e8d413-987d-49fa-ae5c-108a3581dade",
   "metadata": {},
   "outputs": [],
   "source": [
    "import asyncio \n",
    "import time "
   ]
  },
  {
   "cell_type": "code",
   "execution_count": null,
   "id": "51d71804-3ae3-4878-af0a-8d2294718c74",
   "metadata": {},
   "outputs": [],
   "source": [
    "\n",
    "async def task_a(): \n",
    "    print(f\"Task A: Starting at {time.strftime('%X')})\n",
    "\n",
    "    await asyncio.sleep(1)\n",
    "\n",
    "    print(f\"\")"
   ]
  }
 ],
 "metadata": {
  "kernelspec": {
   "display_name": "Python 3 (ipykernel)",
   "language": "python",
   "name": "python3"
  },
  "language_info": {
   "codemirror_mode": {
    "name": "ipython",
    "version": 3
   },
   "file_extension": ".py",
   "mimetype": "text/x-python",
   "name": "python",
   "nbconvert_exporter": "python",
   "pygments_lexer": "ipython3",
   "version": "3.13.5"
  }
 },
 "nbformat": 4,
 "nbformat_minor": 5
}
