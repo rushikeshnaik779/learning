{
 "cells": [
  {
   "cell_type": "code",
   "execution_count": 1,
   "id": "93b96a51-4531-4e96-a0bd-383fbb369f7c",
   "metadata": {},
   "outputs": [
    {
     "name": "stdout",
     "output_type": "stream",
     "text": [
      "Requirement already satisfied: pandas in /Users/rushikeshnaik/miniconda3/lib/python3.13/site-packages (2.3.3)\n",
      "Requirement already satisfied: numpy in /Users/rushikeshnaik/miniconda3/lib/python3.13/site-packages (2.3.3)\n",
      "Requirement already satisfied: python-dateutil>=2.8.2 in /Users/rushikeshnaik/miniconda3/lib/python3.13/site-packages (from pandas) (2.9.0.post0)\n",
      "Requirement already satisfied: pytz>=2020.1 in /Users/rushikeshnaik/miniconda3/lib/python3.13/site-packages (from pandas) (2025.2)\n",
      "Requirement already satisfied: tzdata>=2022.7 in /Users/rushikeshnaik/miniconda3/lib/python3.13/site-packages (from pandas) (2025.2)\n",
      "Requirement already satisfied: six>=1.5 in /Users/rushikeshnaik/miniconda3/lib/python3.13/site-packages (from python-dateutil>=2.8.2->pandas) (1.17.0)\n"
     ]
    }
   ],
   "source": [
    "!pip install pandas numpy "
   ]
  },
  {
   "cell_type": "code",
   "execution_count": 2,
   "id": "0ae440f7-0ed2-4172-b6a5-257317fed6d9",
   "metadata": {},
   "outputs": [],
   "source": [
    "import pandas as pd \n",
    "import numpy as np \n"
   ]
  },
  {
   "cell_type": "code",
   "execution_count": 3,
   "id": "da92d93a-9708-4601-9847-357af54e3dde",
   "metadata": {},
   "outputs": [],
   "source": [
    "aws_df = pd.read_csv('Amazon Echo 2 Reviews.csv')\n"
   ]
  },
  {
   "cell_type": "code",
   "execution_count": 4,
   "id": "e59deb6a-0a9a-47bd-b1d1-400c03b9069b",
   "metadata": {},
   "outputs": [
    {
     "data": {
      "text/html": [
       "<div>\n",
       "<style scoped>\n",
       "    .dataframe tbody tr th:only-of-type {\n",
       "        vertical-align: middle;\n",
       "    }\n",
       "\n",
       "    .dataframe tbody tr th {\n",
       "        vertical-align: top;\n",
       "    }\n",
       "\n",
       "    .dataframe thead th {\n",
       "        text-align: right;\n",
       "    }\n",
       "</style>\n",
       "<table border=\"1\" class=\"dataframe\">\n",
       "  <thead>\n",
       "    <tr style=\"text-align: right;\">\n",
       "      <th></th>\n",
       "      <th>Pageurl</th>\n",
       "      <th>Title</th>\n",
       "      <th>Review Text</th>\n",
       "      <th>Review Color</th>\n",
       "      <th>User Verified</th>\n",
       "      <th>Review Date</th>\n",
       "      <th>Review Useful Count</th>\n",
       "      <th>Configuration Text</th>\n",
       "      <th>Rating</th>\n",
       "      <th>Declaration Text</th>\n",
       "    </tr>\n",
       "  </thead>\n",
       "  <tbody>\n",
       "    <tr>\n",
       "      <th>0</th>\n",
       "      <td>https://www.amazon.com/All-New-Amazon-Echo-Dot...</td>\n",
       "      <td>Three Stars</td>\n",
       "      <td>Not great speakers</td>\n",
       "      <td>Black</td>\n",
       "      <td>Verified Purchase</td>\n",
       "      <td>10/3/2017</td>\n",
       "      <td>NaN</td>\n",
       "      <td>Echo Dot</td>\n",
       "      <td>3</td>\n",
       "      <td>NaN</td>\n",
       "    </tr>\n",
       "    <tr>\n",
       "      <th>1</th>\n",
       "      <td>https://www.amazon.com/All-New-Amazon-Echo-Dot...</td>\n",
       "      <td>Four Stars</td>\n",
       "      <td>Great little gagit</td>\n",
       "      <td>White</td>\n",
       "      <td>Verified Purchase</td>\n",
       "      <td>9/26/2017</td>\n",
       "      <td>NaN</td>\n",
       "      <td>Echo Dot</td>\n",
       "      <td>4</td>\n",
       "      <td>NaN</td>\n",
       "    </tr>\n",
       "    <tr>\n",
       "      <th>2</th>\n",
       "      <td>https://www.amazon.com/All-New-Amazon-Echo-Dot...</td>\n",
       "      <td>Awesome!</td>\n",
       "      <td>Awesome 👏🏽</td>\n",
       "      <td>White</td>\n",
       "      <td>Verified Purchase</td>\n",
       "      <td>9/8/2017</td>\n",
       "      <td>NaN</td>\n",
       "      <td>Echo Dot</td>\n",
       "      <td>5</td>\n",
       "      <td>NaN</td>\n",
       "    </tr>\n",
       "    <tr>\n",
       "      <th>3</th>\n",
       "      <td>https://www.amazon.com/All-New-Amazon-Echo-Dot...</td>\n",
       "      <td>Five Stars</td>\n",
       "      <td>Love my Echo</td>\n",
       "      <td>Black</td>\n",
       "      <td>Verified Purchase</td>\n",
       "      <td>10/19/2017</td>\n",
       "      <td>NaN</td>\n",
       "      <td>Echo Dot</td>\n",
       "      <td>5</td>\n",
       "      <td>NaN</td>\n",
       "    </tr>\n",
       "    <tr>\n",
       "      <th>4</th>\n",
       "      <td>https://www.amazon.com/All-New-Amazon-Echo-Dot...</td>\n",
       "      <td>Five Stars</td>\n",
       "      <td>Great device</td>\n",
       "      <td>Black</td>\n",
       "      <td>Verified Purchase</td>\n",
       "      <td>9/17/2017</td>\n",
       "      <td>NaN</td>\n",
       "      <td>Echo Dot</td>\n",
       "      <td>5</td>\n",
       "      <td>NaN</td>\n",
       "    </tr>\n",
       "  </tbody>\n",
       "</table>\n",
       "</div>"
      ],
      "text/plain": [
       "                                             Pageurl        Title  \\\n",
       "0  https://www.amazon.com/All-New-Amazon-Echo-Dot...  Three Stars   \n",
       "1  https://www.amazon.com/All-New-Amazon-Echo-Dot...   Four Stars   \n",
       "2  https://www.amazon.com/All-New-Amazon-Echo-Dot...     Awesome!   \n",
       "3  https://www.amazon.com/All-New-Amazon-Echo-Dot...   Five Stars   \n",
       "4  https://www.amazon.com/All-New-Amazon-Echo-Dot...   Five Stars   \n",
       "\n",
       "          Review Text Review Color      User Verified Review Date  \\\n",
       "0  Not great speakers        Black  Verified Purchase   10/3/2017   \n",
       "1  Great little gagit        White  Verified Purchase   9/26/2017   \n",
       "2          Awesome 👏🏽        White  Verified Purchase    9/8/2017   \n",
       "3        Love my Echo        Black  Verified Purchase  10/19/2017   \n",
       "4        Great device        Black  Verified Purchase   9/17/2017   \n",
       "\n",
       "   Review Useful Count Configuration Text  Rating Declaration Text  \n",
       "0                  NaN           Echo Dot       3              NaN  \n",
       "1                  NaN           Echo Dot       4              NaN  \n",
       "2                  NaN           Echo Dot       5              NaN  \n",
       "3                  NaN           Echo Dot       5              NaN  \n",
       "4                  NaN           Echo Dot       5              NaN  "
      ]
     },
     "execution_count": 4,
     "metadata": {},
     "output_type": "execute_result"
    }
   ],
   "source": [
    "aws_df.head()"
   ]
  },
  {
   "cell_type": "code",
   "execution_count": 5,
   "id": "4027ad8f-7925-4a92-b915-00693a534e8b",
   "metadata": {},
   "outputs": [
    {
     "name": "stdout",
     "output_type": "stream",
     "text": [
      "<class 'pandas.core.frame.DataFrame'>\n",
      "RangeIndex: 6855 entries, 0 to 6854\n",
      "Data columns (total 10 columns):\n",
      " #   Column               Non-Null Count  Dtype  \n",
      "---  ------               --------------  -----  \n",
      " 0   Pageurl              6855 non-null   object \n",
      " 1   Title                6855 non-null   object \n",
      " 2   Review Text          6850 non-null   object \n",
      " 3   Review Color         6855 non-null   object \n",
      " 4   User Verified        6641 non-null   object \n",
      " 5   Review Date          6855 non-null   object \n",
      " 6   Review Useful Count  28 non-null     float64\n",
      " 7   Configuration Text   6855 non-null   object \n",
      " 8   Rating               6855 non-null   int64  \n",
      " 9   Declaration Text     6 non-null      object \n",
      "dtypes: float64(1), int64(1), object(8)\n",
      "memory usage: 535.7+ KB\n"
     ]
    }
   ],
   "source": [
    "aws_df.info()"
   ]
  },
  {
   "cell_type": "code",
   "execution_count": 6,
   "id": "323b26ae-9f58-4bf5-a1ad-b1d0e868d3cb",
   "metadata": {},
   "outputs": [
    {
     "data": {
      "text/html": [
       "<div>\n",
       "<style scoped>\n",
       "    .dataframe tbody tr th:only-of-type {\n",
       "        vertical-align: middle;\n",
       "    }\n",
       "\n",
       "    .dataframe tbody tr th {\n",
       "        vertical-align: top;\n",
       "    }\n",
       "\n",
       "    .dataframe thead th {\n",
       "        text-align: right;\n",
       "    }\n",
       "</style>\n",
       "<table border=\"1\" class=\"dataframe\">\n",
       "  <thead>\n",
       "    <tr style=\"text-align: right;\">\n",
       "      <th></th>\n",
       "      <th>Review Useful Count</th>\n",
       "      <th>Rating</th>\n",
       "    </tr>\n",
       "  </thead>\n",
       "  <tbody>\n",
       "    <tr>\n",
       "      <th>count</th>\n",
       "      <td>28.000000</td>\n",
       "      <td>6855.000000</td>\n",
       "    </tr>\n",
       "    <tr>\n",
       "      <th>mean</th>\n",
       "      <td>17.071429</td>\n",
       "      <td>4.207002</td>\n",
       "    </tr>\n",
       "    <tr>\n",
       "      <th>std</th>\n",
       "      <td>58.266265</td>\n",
       "      <td>1.272551</td>\n",
       "    </tr>\n",
       "    <tr>\n",
       "      <th>min</th>\n",
       "      <td>2.000000</td>\n",
       "      <td>1.000000</td>\n",
       "    </tr>\n",
       "    <tr>\n",
       "      <th>25%</th>\n",
       "      <td>2.000000</td>\n",
       "      <td>4.000000</td>\n",
       "    </tr>\n",
       "    <tr>\n",
       "      <th>50%</th>\n",
       "      <td>2.000000</td>\n",
       "      <td>5.000000</td>\n",
       "    </tr>\n",
       "    <tr>\n",
       "      <th>75%</th>\n",
       "      <td>2.000000</td>\n",
       "      <td>5.000000</td>\n",
       "    </tr>\n",
       "    <tr>\n",
       "      <th>max</th>\n",
       "      <td>284.000000</td>\n",
       "      <td>5.000000</td>\n",
       "    </tr>\n",
       "  </tbody>\n",
       "</table>\n",
       "</div>"
      ],
      "text/plain": [
       "       Review Useful Count       Rating\n",
       "count            28.000000  6855.000000\n",
       "mean             17.071429     4.207002\n",
       "std              58.266265     1.272551\n",
       "min               2.000000     1.000000\n",
       "25%               2.000000     4.000000\n",
       "50%               2.000000     5.000000\n",
       "75%               2.000000     5.000000\n",
       "max             284.000000     5.000000"
      ]
     },
     "execution_count": 6,
     "metadata": {},
     "output_type": "execute_result"
    }
   ],
   "source": [
    "aws_df.describe()"
   ]
  },
  {
   "cell_type": "code",
   "execution_count": 7,
   "id": "73329aef-d0cc-44af-abbc-fffe2bd24be9",
   "metadata": {},
   "outputs": [
    {
     "data": {
      "text/plain": [
       "Review Color\n",
       "Black    5410\n",
       "White    1445\n",
       "Name: count, dtype: int64"
      ]
     },
     "execution_count": 7,
     "metadata": {},
     "output_type": "execute_result"
    }
   ],
   "source": [
    "aws_df[\"Review Color\"].value_counts()"
   ]
  },
  {
   "cell_type": "code",
   "execution_count": 10,
   "id": "83b2e21d-0256-4258-a800-3d2a8e855938",
   "metadata": {},
   "outputs": [
    {
     "data": {
      "text/plain": [
       "Rating\n",
       "5    4384\n",
       "4     970\n",
       "3     595\n",
       "1     558\n",
       "2     348\n",
       "Name: count, dtype: int64"
      ]
     },
     "execution_count": 10,
     "metadata": {},
     "output_type": "execute_result"
    }
   ],
   "source": [
    "aws_df[\"Rating\"].value_counts()"
   ]
  },
  {
   "cell_type": "code",
   "execution_count": 3,
   "id": "5419d973-d216-4276-aa06-4b30bbebd830",
   "metadata": {},
   "outputs": [
    {
     "name": "stdout",
     "output_type": "stream",
     "text": [
      "sanaM\n",
      "HSEKIHSUR\n"
     ]
    }
   ],
   "source": [
    "def reverse_string(str1): \n",
    "    \"\"\"Reverse the order of a string\"\"\"\n",
    "\n",
    "    return str1[::-1]\n",
    "\n",
    "\n",
    "print(reverse_string(\"Manas\"))\n",
    "\n",
    "print(reverse_string(\"RUSHIKESH\"))"
   ]
  },
  {
   "cell_type": "code",
   "execution_count": 4,
   "id": "9645a779",
   "metadata": {},
   "outputs": [],
   "source": [
    "def first_non_repeating(str1): \n",
    "    char_count = {}\n",
    "    for char in str1: \n",
    "        char_count[char] = char_count.get(char, 0) + 1 \n",
    "\n",
    "\n",
    "\n",
    "    for char in str1: \n",
    "        if char_count[char] == 1 : \n",
    "            return char\n",
    "\n",
    "    return None \n",
    " "
   ]
  },
  {
   "cell_type": "code",
   "execution_count": 8,
   "id": "0821522e",
   "metadata": {},
   "outputs": [
    {
     "data": {
      "text/plain": [
       "'f'"
      ]
     },
     "execution_count": 8,
     "metadata": {},
     "output_type": "execute_result"
    }
   ],
   "source": [
    "first_non_repeating(\"aaababfabaacd\")"
   ]
  },
  {
   "cell_type": "code",
   "execution_count": 9,
   "id": "97a9a9af",
   "metadata": {},
   "outputs": [
    {
     "name": "stdout",
     "output_type": "stream",
     "text": [
      "True\n"
     ]
    }
   ],
   "source": [
    "def is_pallindrome(s): \n",
    "    # checking if the string is pallindrome \n",
    "\n",
    "    clean_s = \"\".join(filter(str.isalnum, s)).lower()\n",
    "\n",
    "    return clean_s == clean_s[::-1]\n",
    "\n",
    "\n",
    "print(is_pallindrome(\"Racecar\"))"
   ]
  },
  {
   "cell_type": "code",
   "execution_count": 10,
   "id": "62dd32b3",
   "metadata": {},
   "outputs": [
    {
     "name": "stdout",
     "output_type": "stream",
     "text": [
      "False\n"
     ]
    }
   ],
   "source": [
    "print(is_pallindrome(\"Racsecar\"))"
   ]
  },
  {
   "cell_type": "code",
   "execution_count": 11,
   "id": "e6097f80",
   "metadata": {},
   "outputs": [],
   "source": [
    "# Find the maximum subarray sum \n",
    "\n",
    "def max_subarray_sum(nums): \n",
    "    if not nums: \n",
    "        return 0 \n",
    "    \n",
    "\n",
    "    max_current = nums[0]\n",
    "    max_global = nums[0]\n",
    "\n",
    "    for i in range(1, len(nums)): \n",
    "        max_current = max(nums[i], max_current + nums[i])\n",
    "\n",
    "        if max_current > max_global: \n",
    "            max_global = max_current\n",
    "\n",
    "    return max_global"
   ]
  },
  {
   "cell_type": "code",
   "execution_count": 13,
   "id": "da46eaa7",
   "metadata": {},
   "outputs": [
    {
     "data": {
      "text/plain": [
       "6"
      ]
     },
     "execution_count": 13,
     "metadata": {},
     "output_type": "execute_result"
    }
   ],
   "source": [
    "max_subarray_sum([-2, 1, -3, 4, -1, 2, 1, -5, 4])"
   ]
  },
  {
   "cell_type": "code",
   "execution_count": 1,
   "id": "1e11bf18",
   "metadata": {},
   "outputs": [
    {
     "name": "stdout",
     "output_type": "stream",
     "text": [
      "0 1 1 2 3 "
     ]
    }
   ],
   "source": [
    "# fibbo series geenrator \n",
    "a, b = 0, 1\n",
    "\n",
    "count = 0 \n",
    "n = 5\n",
    "while count<n: \n",
    "    print(a, end=\" \")\n",
    "    a, b = b, a+b\n",
    "    count +=1\n",
    "\n"
   ]
  },
  {
   "cell_type": "code",
   "execution_count": 2,
   "id": "8e1895a1",
   "metadata": {},
   "outputs": [],
   "source": [
    "# \"4.4 version\" --> Platform update --> "
   ]
  },
  {
   "cell_type": "code",
   "execution_count": 5,
   "id": "ed0aea53",
   "metadata": {},
   "outputs": [
    {
     "name": "stdout",
     "output_type": "stream",
     "text": [
      "Counter({1: 3, 2: 2, 4: 2, 3: 1, 5: 1, 6: 1, 7: 1})\n",
      "[1, 2, 4]\n"
     ]
    }
   ],
   "source": [
    "# finding the duplicates in a list \n",
    "# Answe\n",
    "\n",
    "from collections import Counter \n",
    "\n",
    "def find_duplicates(data): \n",
    "    counts = Counter(data)\n",
    "    print(counts)\n",
    "    duplicates = [item for item, count in counts.items() if count > 1]\n",
    "\n",
    "    return duplicates\n",
    "\n",
    "numbers = [1, 2, 3, 4, 2, 5, 1, 6, 7, 4, 1]\n",
    "\n",
    "print(find_duplicates(numbers))"
   ]
  },
  {
   "cell_type": "code",
   "execution_count": 4,
   "id": "9cd8111a",
   "metadata": {},
   "outputs": [
    {
     "name": "stdout",
     "output_type": "stream",
     "text": [
      "['U', 'S']\n"
     ]
    }
   ],
   "source": [
    "strings = ['R', 'U', 'S', 'S', \"U\"]\n",
    "\n",
    "print(find_duplicates(strings))"
   ]
  },
  {
   "cell_type": "code",
   "execution_count": 10,
   "id": "bf506785",
   "metadata": {},
   "outputs": [],
   "source": [
    "def two_sum(nums, target): \n",
    "    seen = {}\n",
    "    for index, num in enumerate(nums): \n",
    "        print(index, num)\n",
    "        complement = target - num \n",
    "\n",
    "        if complement in seen: \n",
    "            return [seen[complement], index]\n",
    "        \n",
    "\n",
    "        seen[num] = index\n",
    "\n",
    "    return []\n"
   ]
  },
  {
   "cell_type": "code",
   "execution_count": 11,
   "id": "02f32011",
   "metadata": {},
   "outputs": [
    {
     "name": "stdout",
     "output_type": "stream",
     "text": [
      "0 2\n",
      "1 7\n",
      "Indices for target 9: [0, 1]\n"
     ]
    }
   ],
   "source": [
    "# Example Usage:\n",
    "nums = [2, 7, 11, 15]\n",
    "target = 9\n",
    "print(f\"Indices for target {target}: {two_sum(nums, target)}\")"
   ]
  },
  {
   "cell_type": "code",
   "execution_count": 13,
   "id": "0198cbf6",
   "metadata": {},
   "outputs": [
    {
     "data": {
      "text/plain": [
       "[1, 2, 3, 4, 5, 6]"
      ]
     },
     "execution_count": 13,
     "metadata": {},
     "output_type": "execute_result"
    }
   ],
   "source": [
    "[1, 2, 3] + [4, 5, 6]"
   ]
  },
  {
   "cell_type": "code",
   "execution_count": 14,
   "id": "2f2b2353",
   "metadata": {},
   "outputs": [],
   "source": [
    "import string \n",
    "\n",
    "def clean_and_tokenize(text): \n",
    "\n",
    "    custom_stopwords = set(['the', 'is', 'a', 'an', 'and', 'of', 'to', 'in', 'it', 'for'])\n",
    "    translator = str.maketrans(\"\", \"\", string.punctuation)\n",
    "\n",
    "    # text lower \n",
    "    text_lower = text.lower()\n",
    "    text_no_punct = text_lower.translate(translator)\n",
    "\n",
    "    tokens = text_no_punct.split()\n",
    "\n",
    "    filter_tokens = [word for word in tokens if word not in custom_stopwords]\n",
    "\n",
    "    return filter_tokens\n",
    "\n"
   ]
  },
  {
   "cell_type": "code",
   "execution_count": 15,
   "id": "5511233c",
   "metadata": {},
   "outputs": [
    {
     "name": "stdout",
     "output_type": "stream",
     "text": [
      "Original Text: NLP is a fascinating field. It helps computers understand human language!\n",
      "Filtered Tokens: ['nlp', 'fascinating', 'field', 'helps', 'computers', 'understand', 'human', 'language']\n"
     ]
    }
   ],
   "source": [
    "# Example Usage:\n",
    "input_text = \"NLP is a fascinating field. It helps computers understand human language!\"\n",
    "tokens = clean_and_tokenize(input_text)\n",
    "print(f\"Original Text: {input_text}\")\n",
    "print(f\"Filtered Tokens: {tokens}\")"
   ]
  },
  {
   "cell_type": "code",
   "execution_count": null,
   "id": "dc7068f6",
   "metadata": {},
   "outputs": [],
   "source": []
  }
 ],
 "metadata": {
  "kernelspec": {
   "display_name": "test_env",
   "language": "python",
   "name": "python3"
  },
  "language_info": {
   "codemirror_mode": {
    "name": "ipython",
    "version": 3
   },
   "file_extension": ".py",
   "mimetype": "text/x-python",
   "name": "python",
   "nbconvert_exporter": "python",
   "pygments_lexer": "ipython3",
   "version": "3.12.11"
  }
 },
 "nbformat": 4,
 "nbformat_minor": 5
}
